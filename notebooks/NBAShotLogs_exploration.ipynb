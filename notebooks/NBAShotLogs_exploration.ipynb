{
 "cells": [
  {
   "cell_type": "markdown",
   "metadata": {},
   "source": [
    "Imports"
   ]
  },
  {
   "cell_type": "code",
   "execution_count": 350,
   "metadata": {},
   "outputs": [],
   "source": [
    "import pandas as pd\n",
    "import numpy as np\n",
    "import matplotlib.pyplot as plt\n",
    "import seaborn as sns"
   ]
  },
  {
   "cell_type": "markdown",
   "metadata": {},
   "source": [
    "# NBA Shot Logs - Dataset Exploration"
   ]
  },
  {
   "cell_type": "markdown",
   "metadata": {},
   "source": [
    "## Basic info about the dataset"
   ]
  },
  {
   "cell_type": "markdown",
   "metadata": {},
   "source": [
    "Load dataset CSV file as Pandas dataframe."
   ]
  },
  {
   "cell_type": "code",
   "execution_count": 351,
   "metadata": {},
   "outputs": [],
   "source": [
    "df = pd.read_csv('../data/raw/shot_logs.csv')"
   ]
  },
  {
   "cell_type": "markdown",
   "metadata": {},
   "source": [
    "Dataframe shape - Number of rows and columns."
   ]
  },
  {
   "cell_type": "code",
   "execution_count": 352,
   "metadata": {},
   "outputs": [
    {
     "data": {
      "text/plain": [
       "(128069, 21)"
      ]
     },
     "execution_count": 352,
     "metadata": {},
     "output_type": "execute_result"
    }
   ],
   "source": [
    "df.shape"
   ]
  },
  {
   "cell_type": "markdown",
   "metadata": {},
   "source": [
    "Examples - First five rows."
   ]
  },
  {
   "cell_type": "code",
   "execution_count": 353,
   "metadata": {},
   "outputs": [
    {
     "data": {
      "text/html": [
       "<div>\n",
       "<style scoped>\n",
       "    .dataframe tbody tr th:only-of-type {\n",
       "        vertical-align: middle;\n",
       "    }\n",
       "\n",
       "    .dataframe tbody tr th {\n",
       "        vertical-align: top;\n",
       "    }\n",
       "\n",
       "    .dataframe thead th {\n",
       "        text-align: right;\n",
       "    }\n",
       "</style>\n",
       "<table border=\"1\" class=\"dataframe\">\n",
       "  <thead>\n",
       "    <tr style=\"text-align: right;\">\n",
       "      <th></th>\n",
       "      <th>GAME_ID</th>\n",
       "      <th>MATCHUP</th>\n",
       "      <th>LOCATION</th>\n",
       "      <th>W</th>\n",
       "      <th>FINAL_MARGIN</th>\n",
       "      <th>SHOT_NUMBER</th>\n",
       "      <th>PERIOD</th>\n",
       "      <th>GAME_CLOCK</th>\n",
       "      <th>SHOT_CLOCK</th>\n",
       "      <th>DRIBBLES</th>\n",
       "      <th>...</th>\n",
       "      <th>SHOT_DIST</th>\n",
       "      <th>PTS_TYPE</th>\n",
       "      <th>SHOT_RESULT</th>\n",
       "      <th>CLOSEST_DEFENDER</th>\n",
       "      <th>CLOSEST_DEFENDER_PLAYER_ID</th>\n",
       "      <th>CLOSE_DEF_DIST</th>\n",
       "      <th>FGM</th>\n",
       "      <th>PTS</th>\n",
       "      <th>player_name</th>\n",
       "      <th>player_id</th>\n",
       "    </tr>\n",
       "  </thead>\n",
       "  <tbody>\n",
       "    <tr>\n",
       "      <th>0</th>\n",
       "      <td>21400899</td>\n",
       "      <td>MAR 04, 2015 - CHA @ BKN</td>\n",
       "      <td>A</td>\n",
       "      <td>W</td>\n",
       "      <td>24</td>\n",
       "      <td>1</td>\n",
       "      <td>1</td>\n",
       "      <td>1:09</td>\n",
       "      <td>10.8</td>\n",
       "      <td>2</td>\n",
       "      <td>...</td>\n",
       "      <td>7.7</td>\n",
       "      <td>2</td>\n",
       "      <td>made</td>\n",
       "      <td>Anderson, Alan</td>\n",
       "      <td>101187</td>\n",
       "      <td>1.3</td>\n",
       "      <td>1</td>\n",
       "      <td>2</td>\n",
       "      <td>brian roberts</td>\n",
       "      <td>203148</td>\n",
       "    </tr>\n",
       "    <tr>\n",
       "      <th>1</th>\n",
       "      <td>21400899</td>\n",
       "      <td>MAR 04, 2015 - CHA @ BKN</td>\n",
       "      <td>A</td>\n",
       "      <td>W</td>\n",
       "      <td>24</td>\n",
       "      <td>2</td>\n",
       "      <td>1</td>\n",
       "      <td>0:14</td>\n",
       "      <td>3.4</td>\n",
       "      <td>0</td>\n",
       "      <td>...</td>\n",
       "      <td>28.2</td>\n",
       "      <td>3</td>\n",
       "      <td>missed</td>\n",
       "      <td>Bogdanovic, Bojan</td>\n",
       "      <td>202711</td>\n",
       "      <td>6.1</td>\n",
       "      <td>0</td>\n",
       "      <td>0</td>\n",
       "      <td>brian roberts</td>\n",
       "      <td>203148</td>\n",
       "    </tr>\n",
       "    <tr>\n",
       "      <th>2</th>\n",
       "      <td>21400899</td>\n",
       "      <td>MAR 04, 2015 - CHA @ BKN</td>\n",
       "      <td>A</td>\n",
       "      <td>W</td>\n",
       "      <td>24</td>\n",
       "      <td>3</td>\n",
       "      <td>1</td>\n",
       "      <td>0:00</td>\n",
       "      <td>NaN</td>\n",
       "      <td>3</td>\n",
       "      <td>...</td>\n",
       "      <td>10.1</td>\n",
       "      <td>2</td>\n",
       "      <td>missed</td>\n",
       "      <td>Bogdanovic, Bojan</td>\n",
       "      <td>202711</td>\n",
       "      <td>0.9</td>\n",
       "      <td>0</td>\n",
       "      <td>0</td>\n",
       "      <td>brian roberts</td>\n",
       "      <td>203148</td>\n",
       "    </tr>\n",
       "    <tr>\n",
       "      <th>3</th>\n",
       "      <td>21400899</td>\n",
       "      <td>MAR 04, 2015 - CHA @ BKN</td>\n",
       "      <td>A</td>\n",
       "      <td>W</td>\n",
       "      <td>24</td>\n",
       "      <td>4</td>\n",
       "      <td>2</td>\n",
       "      <td>11:47</td>\n",
       "      <td>10.3</td>\n",
       "      <td>2</td>\n",
       "      <td>...</td>\n",
       "      <td>17.2</td>\n",
       "      <td>2</td>\n",
       "      <td>missed</td>\n",
       "      <td>Brown, Markel</td>\n",
       "      <td>203900</td>\n",
       "      <td>3.4</td>\n",
       "      <td>0</td>\n",
       "      <td>0</td>\n",
       "      <td>brian roberts</td>\n",
       "      <td>203148</td>\n",
       "    </tr>\n",
       "    <tr>\n",
       "      <th>4</th>\n",
       "      <td>21400899</td>\n",
       "      <td>MAR 04, 2015 - CHA @ BKN</td>\n",
       "      <td>A</td>\n",
       "      <td>W</td>\n",
       "      <td>24</td>\n",
       "      <td>5</td>\n",
       "      <td>2</td>\n",
       "      <td>10:34</td>\n",
       "      <td>10.9</td>\n",
       "      <td>2</td>\n",
       "      <td>...</td>\n",
       "      <td>3.7</td>\n",
       "      <td>2</td>\n",
       "      <td>missed</td>\n",
       "      <td>Young, Thaddeus</td>\n",
       "      <td>201152</td>\n",
       "      <td>1.1</td>\n",
       "      <td>0</td>\n",
       "      <td>0</td>\n",
       "      <td>brian roberts</td>\n",
       "      <td>203148</td>\n",
       "    </tr>\n",
       "  </tbody>\n",
       "</table>\n",
       "<p>5 rows × 21 columns</p>\n",
       "</div>"
      ],
      "text/plain": [
       "    GAME_ID                   MATCHUP LOCATION  W  FINAL_MARGIN  SHOT_NUMBER  \\\n",
       "0  21400899  MAR 04, 2015 - CHA @ BKN        A  W            24            1   \n",
       "1  21400899  MAR 04, 2015 - CHA @ BKN        A  W            24            2   \n",
       "2  21400899  MAR 04, 2015 - CHA @ BKN        A  W            24            3   \n",
       "3  21400899  MAR 04, 2015 - CHA @ BKN        A  W            24            4   \n",
       "4  21400899  MAR 04, 2015 - CHA @ BKN        A  W            24            5   \n",
       "\n",
       "   PERIOD GAME_CLOCK  SHOT_CLOCK  DRIBBLES  ...  SHOT_DIST  PTS_TYPE  \\\n",
       "0       1       1:09        10.8         2  ...        7.7         2   \n",
       "1       1       0:14         3.4         0  ...       28.2         3   \n",
       "2       1       0:00         NaN         3  ...       10.1         2   \n",
       "3       2      11:47        10.3         2  ...       17.2         2   \n",
       "4       2      10:34        10.9         2  ...        3.7         2   \n",
       "\n",
       "   SHOT_RESULT   CLOSEST_DEFENDER CLOSEST_DEFENDER_PLAYER_ID  CLOSE_DEF_DIST  \\\n",
       "0         made     Anderson, Alan                     101187             1.3   \n",
       "1       missed  Bogdanovic, Bojan                     202711             6.1   \n",
       "2       missed  Bogdanovic, Bojan                     202711             0.9   \n",
       "3       missed      Brown, Markel                     203900             3.4   \n",
       "4       missed    Young, Thaddeus                     201152             1.1   \n",
       "\n",
       "   FGM  PTS    player_name player_id  \n",
       "0    1    2  brian roberts    203148  \n",
       "1    0    0  brian roberts    203148  \n",
       "2    0    0  brian roberts    203148  \n",
       "3    0    0  brian roberts    203148  \n",
       "4    0    0  brian roberts    203148  \n",
       "\n",
       "[5 rows x 21 columns]"
      ]
     },
     "execution_count": 353,
     "metadata": {},
     "output_type": "execute_result"
    }
   ],
   "source": [
    "df.head()"
   ]
  },
  {
   "cell_type": "markdown",
   "metadata": {},
   "source": [
    "Examples - Last five rows."
   ]
  },
  {
   "cell_type": "code",
   "execution_count": 354,
   "metadata": {},
   "outputs": [
    {
     "data": {
      "text/html": [
       "<div>\n",
       "<style scoped>\n",
       "    .dataframe tbody tr th:only-of-type {\n",
       "        vertical-align: middle;\n",
       "    }\n",
       "\n",
       "    .dataframe tbody tr th {\n",
       "        vertical-align: top;\n",
       "    }\n",
       "\n",
       "    .dataframe thead th {\n",
       "        text-align: right;\n",
       "    }\n",
       "</style>\n",
       "<table border=\"1\" class=\"dataframe\">\n",
       "  <thead>\n",
       "    <tr style=\"text-align: right;\">\n",
       "      <th></th>\n",
       "      <th>GAME_ID</th>\n",
       "      <th>MATCHUP</th>\n",
       "      <th>LOCATION</th>\n",
       "      <th>W</th>\n",
       "      <th>FINAL_MARGIN</th>\n",
       "      <th>SHOT_NUMBER</th>\n",
       "      <th>PERIOD</th>\n",
       "      <th>GAME_CLOCK</th>\n",
       "      <th>SHOT_CLOCK</th>\n",
       "      <th>DRIBBLES</th>\n",
       "      <th>...</th>\n",
       "      <th>SHOT_DIST</th>\n",
       "      <th>PTS_TYPE</th>\n",
       "      <th>SHOT_RESULT</th>\n",
       "      <th>CLOSEST_DEFENDER</th>\n",
       "      <th>CLOSEST_DEFENDER_PLAYER_ID</th>\n",
       "      <th>CLOSE_DEF_DIST</th>\n",
       "      <th>FGM</th>\n",
       "      <th>PTS</th>\n",
       "      <th>player_name</th>\n",
       "      <th>player_id</th>\n",
       "    </tr>\n",
       "  </thead>\n",
       "  <tbody>\n",
       "    <tr>\n",
       "      <th>128064</th>\n",
       "      <td>21400006</td>\n",
       "      <td>OCT 29, 2014 - BKN @ BOS</td>\n",
       "      <td>A</td>\n",
       "      <td>L</td>\n",
       "      <td>-16</td>\n",
       "      <td>5</td>\n",
       "      <td>3</td>\n",
       "      <td>1:52</td>\n",
       "      <td>18.3</td>\n",
       "      <td>5</td>\n",
       "      <td>...</td>\n",
       "      <td>8.7</td>\n",
       "      <td>2</td>\n",
       "      <td>missed</td>\n",
       "      <td>Smart, Marcus</td>\n",
       "      <td>203935</td>\n",
       "      <td>0.8</td>\n",
       "      <td>0</td>\n",
       "      <td>0</td>\n",
       "      <td>jarrett jack</td>\n",
       "      <td>101127</td>\n",
       "    </tr>\n",
       "    <tr>\n",
       "      <th>128065</th>\n",
       "      <td>21400006</td>\n",
       "      <td>OCT 29, 2014 - BKN @ BOS</td>\n",
       "      <td>A</td>\n",
       "      <td>L</td>\n",
       "      <td>-16</td>\n",
       "      <td>6</td>\n",
       "      <td>4</td>\n",
       "      <td>11:28</td>\n",
       "      <td>19.8</td>\n",
       "      <td>4</td>\n",
       "      <td>...</td>\n",
       "      <td>0.6</td>\n",
       "      <td>2</td>\n",
       "      <td>made</td>\n",
       "      <td>Turner, Evan</td>\n",
       "      <td>202323</td>\n",
       "      <td>0.6</td>\n",
       "      <td>1</td>\n",
       "      <td>2</td>\n",
       "      <td>jarrett jack</td>\n",
       "      <td>101127</td>\n",
       "    </tr>\n",
       "    <tr>\n",
       "      <th>128066</th>\n",
       "      <td>21400006</td>\n",
       "      <td>OCT 29, 2014 - BKN @ BOS</td>\n",
       "      <td>A</td>\n",
       "      <td>L</td>\n",
       "      <td>-16</td>\n",
       "      <td>7</td>\n",
       "      <td>4</td>\n",
       "      <td>11:10</td>\n",
       "      <td>23.0</td>\n",
       "      <td>2</td>\n",
       "      <td>...</td>\n",
       "      <td>16.9</td>\n",
       "      <td>2</td>\n",
       "      <td>made</td>\n",
       "      <td>Thornton, Marcus</td>\n",
       "      <td>201977</td>\n",
       "      <td>4.2</td>\n",
       "      <td>1</td>\n",
       "      <td>2</td>\n",
       "      <td>jarrett jack</td>\n",
       "      <td>101127</td>\n",
       "    </tr>\n",
       "    <tr>\n",
       "      <th>128067</th>\n",
       "      <td>21400006</td>\n",
       "      <td>OCT 29, 2014 - BKN @ BOS</td>\n",
       "      <td>A</td>\n",
       "      <td>L</td>\n",
       "      <td>-16</td>\n",
       "      <td>8</td>\n",
       "      <td>4</td>\n",
       "      <td>2:37</td>\n",
       "      <td>9.1</td>\n",
       "      <td>4</td>\n",
       "      <td>...</td>\n",
       "      <td>18.3</td>\n",
       "      <td>2</td>\n",
       "      <td>missed</td>\n",
       "      <td>Bradley, Avery</td>\n",
       "      <td>202340</td>\n",
       "      <td>3.0</td>\n",
       "      <td>0</td>\n",
       "      <td>0</td>\n",
       "      <td>jarrett jack</td>\n",
       "      <td>101127</td>\n",
       "    </tr>\n",
       "    <tr>\n",
       "      <th>128068</th>\n",
       "      <td>21400006</td>\n",
       "      <td>OCT 29, 2014 - BKN @ BOS</td>\n",
       "      <td>A</td>\n",
       "      <td>L</td>\n",
       "      <td>-16</td>\n",
       "      <td>9</td>\n",
       "      <td>4</td>\n",
       "      <td>0:12</td>\n",
       "      <td>NaN</td>\n",
       "      <td>5</td>\n",
       "      <td>...</td>\n",
       "      <td>5.1</td>\n",
       "      <td>2</td>\n",
       "      <td>made</td>\n",
       "      <td>Bradley, Avery</td>\n",
       "      <td>202340</td>\n",
       "      <td>2.3</td>\n",
       "      <td>1</td>\n",
       "      <td>2</td>\n",
       "      <td>jarrett jack</td>\n",
       "      <td>101127</td>\n",
       "    </tr>\n",
       "  </tbody>\n",
       "</table>\n",
       "<p>5 rows × 21 columns</p>\n",
       "</div>"
      ],
      "text/plain": [
       "         GAME_ID                   MATCHUP LOCATION  W  FINAL_MARGIN  \\\n",
       "128064  21400006  OCT 29, 2014 - BKN @ BOS        A  L           -16   \n",
       "128065  21400006  OCT 29, 2014 - BKN @ BOS        A  L           -16   \n",
       "128066  21400006  OCT 29, 2014 - BKN @ BOS        A  L           -16   \n",
       "128067  21400006  OCT 29, 2014 - BKN @ BOS        A  L           -16   \n",
       "128068  21400006  OCT 29, 2014 - BKN @ BOS        A  L           -16   \n",
       "\n",
       "        SHOT_NUMBER  PERIOD GAME_CLOCK  SHOT_CLOCK  DRIBBLES  ...  SHOT_DIST  \\\n",
       "128064            5       3       1:52        18.3         5  ...        8.7   \n",
       "128065            6       4      11:28        19.8         4  ...        0.6   \n",
       "128066            7       4      11:10        23.0         2  ...       16.9   \n",
       "128067            8       4       2:37         9.1         4  ...       18.3   \n",
       "128068            9       4       0:12         NaN         5  ...        5.1   \n",
       "\n",
       "        PTS_TYPE  SHOT_RESULT  CLOSEST_DEFENDER CLOSEST_DEFENDER_PLAYER_ID  \\\n",
       "128064         2       missed     Smart, Marcus                     203935   \n",
       "128065         2         made      Turner, Evan                     202323   \n",
       "128066         2         made  Thornton, Marcus                     201977   \n",
       "128067         2       missed    Bradley, Avery                     202340   \n",
       "128068         2         made    Bradley, Avery                     202340   \n",
       "\n",
       "        CLOSE_DEF_DIST  FGM  PTS   player_name player_id  \n",
       "128064             0.8    0    0  jarrett jack    101127  \n",
       "128065             0.6    1    2  jarrett jack    101127  \n",
       "128066             4.2    1    2  jarrett jack    101127  \n",
       "128067             3.0    0    0  jarrett jack    101127  \n",
       "128068             2.3    1    2  jarrett jack    101127  \n",
       "\n",
       "[5 rows x 21 columns]"
      ]
     },
     "execution_count": 354,
     "metadata": {},
     "output_type": "execute_result"
    }
   ],
   "source": [
    "df.tail()"
   ]
  },
  {
   "cell_type": "markdown",
   "metadata": {},
   "source": [
    "General dataframe information - Columns, data types, and number of non-null objects per column."
   ]
  },
  {
   "cell_type": "code",
   "execution_count": 355,
   "metadata": {},
   "outputs": [
    {
     "name": "stdout",
     "output_type": "stream",
     "text": [
      "<class 'pandas.core.frame.DataFrame'>\n",
      "RangeIndex: 128069 entries, 0 to 128068\n",
      "Data columns (total 21 columns):\n",
      " #   Column                      Non-Null Count   Dtype  \n",
      "---  ------                      --------------   -----  \n",
      " 0   GAME_ID                     128069 non-null  int64  \n",
      " 1   MATCHUP                     128069 non-null  object \n",
      " 2   LOCATION                    128069 non-null  object \n",
      " 3   W                           128069 non-null  object \n",
      " 4   FINAL_MARGIN                128069 non-null  int64  \n",
      " 5   SHOT_NUMBER                 128069 non-null  int64  \n",
      " 6   PERIOD                      128069 non-null  int64  \n",
      " 7   GAME_CLOCK                  128069 non-null  object \n",
      " 8   SHOT_CLOCK                  122502 non-null  float64\n",
      " 9   DRIBBLES                    128069 non-null  int64  \n",
      " 10  TOUCH_TIME                  128069 non-null  float64\n",
      " 11  SHOT_DIST                   128069 non-null  float64\n",
      " 12  PTS_TYPE                    128069 non-null  int64  \n",
      " 13  SHOT_RESULT                 128069 non-null  object \n",
      " 14  CLOSEST_DEFENDER            128069 non-null  object \n",
      " 15  CLOSEST_DEFENDER_PLAYER_ID  128069 non-null  int64  \n",
      " 16  CLOSE_DEF_DIST              128069 non-null  float64\n",
      " 17  FGM                         128069 non-null  int64  \n",
      " 18  PTS                         128069 non-null  int64  \n",
      " 19  player_name                 128069 non-null  object \n",
      " 20  player_id                   128069 non-null  int64  \n",
      "dtypes: float64(4), int64(10), object(7)\n",
      "memory usage: 20.5+ MB\n"
     ]
    }
   ],
   "source": [
    "df.info()"
   ]
  },
  {
   "cell_type": "markdown",
   "metadata": {},
   "source": [
    "On first look, attributes FGM and PTS seem to be perfect shot predictors. FGM shows wheter a shot was made. PTS show how many points did the shot attempt get (0 for missed shot).\n",
    "\n",
    "Each column has only non-null elements, except for column SHOT_CLOCK."
   ]
  },
  {
   "cell_type": "markdown",
   "metadata": {},
   "source": [
    "It could be useful to convert GAME_CLOCK's values from format MM/SS to seconds. The attribute becomes numeric now."
   ]
  },
  {
   "cell_type": "code",
   "execution_count": 356,
   "metadata": {},
   "outputs": [],
   "source": [
    "def time_convert(x):\n",
    "    m,s = map(int,x.split(':'))\n",
    "    return m * 60 + s"
   ]
  },
  {
   "cell_type": "code",
   "execution_count": 357,
   "metadata": {},
   "outputs": [],
   "source": [
    "df['GAME_CLOCK'] = df.GAME_CLOCK.apply(time_convert)"
   ]
  },
  {
   "cell_type": "code",
   "execution_count": 358,
   "metadata": {},
   "outputs": [
    {
     "data": {
      "text/plain": [
       "0          69\n",
       "1          14\n",
       "2           0\n",
       "3         707\n",
       "4         634\n",
       "         ... \n",
       "128064    112\n",
       "128065    688\n",
       "128066    670\n",
       "128067    157\n",
       "128068     12\n",
       "Name: GAME_CLOCK, Length: 128069, dtype: int64"
      ]
     },
     "execution_count": 358,
     "metadata": {},
     "output_type": "execute_result"
    }
   ],
   "source": [
    "df['GAME_CLOCK']"
   ]
  },
  {
   "cell_type": "markdown",
   "metadata": {},
   "source": [
    "Check which columns are numeric."
   ]
  },
  {
   "cell_type": "code",
   "execution_count": 359,
   "metadata": {},
   "outputs": [
    {
     "data": {
      "text/plain": [
       "['GAME_ID',\n",
       " 'FINAL_MARGIN',\n",
       " 'SHOT_NUMBER',\n",
       " 'PERIOD',\n",
       " 'GAME_CLOCK',\n",
       " 'SHOT_CLOCK',\n",
       " 'DRIBBLES',\n",
       " 'TOUCH_TIME',\n",
       " 'SHOT_DIST',\n",
       " 'PTS_TYPE',\n",
       " 'CLOSEST_DEFENDER_PLAYER_ID',\n",
       " 'CLOSE_DEF_DIST',\n",
       " 'FGM',\n",
       " 'PTS',\n",
       " 'player_id']"
      ]
     },
     "execution_count": 359,
     "metadata": {},
     "output_type": "execute_result"
    }
   ],
   "source": [
    "numeric_columns = df.select_dtypes(include=np.number).columns.tolist()\n",
    "numeric_columns"
   ]
  },
  {
   "cell_type": "markdown",
   "metadata": {},
   "source": [
    "## Descriptive Analysis"
   ]
  },
  {
   "cell_type": "markdown",
   "metadata": {},
   "source": [
    "### Basic statistical information for numeric columns."
   ]
  },
  {
   "cell_type": "code",
   "execution_count": 360,
   "metadata": {},
   "outputs": [
    {
     "data": {
      "text/html": [
       "<div>\n",
       "<style scoped>\n",
       "    .dataframe tbody tr th:only-of-type {\n",
       "        vertical-align: middle;\n",
       "    }\n",
       "\n",
       "    .dataframe tbody tr th {\n",
       "        vertical-align: top;\n",
       "    }\n",
       "\n",
       "    .dataframe thead th {\n",
       "        text-align: right;\n",
       "    }\n",
       "</style>\n",
       "<table border=\"1\" class=\"dataframe\">\n",
       "  <thead>\n",
       "    <tr style=\"text-align: right;\">\n",
       "      <th></th>\n",
       "      <th>GAME_ID</th>\n",
       "      <th>FINAL_MARGIN</th>\n",
       "      <th>SHOT_NUMBER</th>\n",
       "      <th>PERIOD</th>\n",
       "      <th>GAME_CLOCK</th>\n",
       "      <th>SHOT_CLOCK</th>\n",
       "      <th>DRIBBLES</th>\n",
       "      <th>TOUCH_TIME</th>\n",
       "      <th>SHOT_DIST</th>\n",
       "      <th>PTS_TYPE</th>\n",
       "      <th>CLOSEST_DEFENDER_PLAYER_ID</th>\n",
       "      <th>CLOSE_DEF_DIST</th>\n",
       "      <th>FGM</th>\n",
       "      <th>PTS</th>\n",
       "      <th>player_id</th>\n",
       "    </tr>\n",
       "  </thead>\n",
       "  <tbody>\n",
       "    <tr>\n",
       "      <th>count</th>\n",
       "      <td>1.280690e+05</td>\n",
       "      <td>128069.000000</td>\n",
       "      <td>128069.000000</td>\n",
       "      <td>128069.000000</td>\n",
       "      <td>128069.000000</td>\n",
       "      <td>122502.000000</td>\n",
       "      <td>128069.000000</td>\n",
       "      <td>128069.000000</td>\n",
       "      <td>128069.000000</td>\n",
       "      <td>128069.000000</td>\n",
       "      <td>128069.000000</td>\n",
       "      <td>128069.000000</td>\n",
       "      <td>128069.000000</td>\n",
       "      <td>128069.000000</td>\n",
       "      <td>128069.000000</td>\n",
       "    </tr>\n",
       "    <tr>\n",
       "      <th>mean</th>\n",
       "      <td>2.140045e+07</td>\n",
       "      <td>0.208723</td>\n",
       "      <td>6.506899</td>\n",
       "      <td>2.469427</td>\n",
       "      <td>351.393811</td>\n",
       "      <td>12.453344</td>\n",
       "      <td>2.023355</td>\n",
       "      <td>2.765901</td>\n",
       "      <td>13.571504</td>\n",
       "      <td>2.264670</td>\n",
       "      <td>159038.487284</td>\n",
       "      <td>4.123015</td>\n",
       "      <td>0.452139</td>\n",
       "      <td>0.997314</td>\n",
       "      <td>157238.251247</td>\n",
       "    </tr>\n",
       "    <tr>\n",
       "      <th>std</th>\n",
       "      <td>2.578773e+02</td>\n",
       "      <td>13.233267</td>\n",
       "      <td>4.713260</td>\n",
       "      <td>1.139919</td>\n",
       "      <td>207.590603</td>\n",
       "      <td>5.763265</td>\n",
       "      <td>3.477760</td>\n",
       "      <td>3.043682</td>\n",
       "      <td>8.888964</td>\n",
       "      <td>0.441159</td>\n",
       "      <td>78791.172947</td>\n",
       "      <td>2.756446</td>\n",
       "      <td>0.497706</td>\n",
       "      <td>1.130978</td>\n",
       "      <td>79362.389336</td>\n",
       "    </tr>\n",
       "    <tr>\n",
       "      <th>min</th>\n",
       "      <td>2.140000e+07</td>\n",
       "      <td>-53.000000</td>\n",
       "      <td>1.000000</td>\n",
       "      <td>1.000000</td>\n",
       "      <td>0.000000</td>\n",
       "      <td>0.000000</td>\n",
       "      <td>0.000000</td>\n",
       "      <td>-163.600000</td>\n",
       "      <td>0.000000</td>\n",
       "      <td>2.000000</td>\n",
       "      <td>708.000000</td>\n",
       "      <td>0.000000</td>\n",
       "      <td>0.000000</td>\n",
       "      <td>0.000000</td>\n",
       "      <td>708.000000</td>\n",
       "    </tr>\n",
       "    <tr>\n",
       "      <th>25%</th>\n",
       "      <td>2.140023e+07</td>\n",
       "      <td>-8.000000</td>\n",
       "      <td>3.000000</td>\n",
       "      <td>1.000000</td>\n",
       "      <td>172.000000</td>\n",
       "      <td>8.200000</td>\n",
       "      <td>0.000000</td>\n",
       "      <td>0.900000</td>\n",
       "      <td>4.700000</td>\n",
       "      <td>2.000000</td>\n",
       "      <td>101249.000000</td>\n",
       "      <td>2.300000</td>\n",
       "      <td>0.000000</td>\n",
       "      <td>0.000000</td>\n",
       "      <td>101162.000000</td>\n",
       "    </tr>\n",
       "    <tr>\n",
       "      <th>50%</th>\n",
       "      <td>2.140045e+07</td>\n",
       "      <td>1.000000</td>\n",
       "      <td>5.000000</td>\n",
       "      <td>2.000000</td>\n",
       "      <td>352.000000</td>\n",
       "      <td>12.300000</td>\n",
       "      <td>1.000000</td>\n",
       "      <td>1.600000</td>\n",
       "      <td>13.700000</td>\n",
       "      <td>2.000000</td>\n",
       "      <td>201949.000000</td>\n",
       "      <td>3.700000</td>\n",
       "      <td>0.000000</td>\n",
       "      <td>0.000000</td>\n",
       "      <td>201939.000000</td>\n",
       "    </tr>\n",
       "    <tr>\n",
       "      <th>75%</th>\n",
       "      <td>2.140067e+07</td>\n",
       "      <td>9.000000</td>\n",
       "      <td>9.000000</td>\n",
       "      <td>3.000000</td>\n",
       "      <td>531.000000</td>\n",
       "      <td>16.675000</td>\n",
       "      <td>2.000000</td>\n",
       "      <td>3.700000</td>\n",
       "      <td>22.500000</td>\n",
       "      <td>3.000000</td>\n",
       "      <td>203079.000000</td>\n",
       "      <td>5.300000</td>\n",
       "      <td>1.000000</td>\n",
       "      <td>2.000000</td>\n",
       "      <td>202704.000000</td>\n",
       "    </tr>\n",
       "    <tr>\n",
       "      <th>max</th>\n",
       "      <td>2.140091e+07</td>\n",
       "      <td>53.000000</td>\n",
       "      <td>38.000000</td>\n",
       "      <td>7.000000</td>\n",
       "      <td>720.000000</td>\n",
       "      <td>24.000000</td>\n",
       "      <td>32.000000</td>\n",
       "      <td>24.900000</td>\n",
       "      <td>47.200000</td>\n",
       "      <td>3.000000</td>\n",
       "      <td>530027.000000</td>\n",
       "      <td>53.200000</td>\n",
       "      <td>1.000000</td>\n",
       "      <td>3.000000</td>\n",
       "      <td>204060.000000</td>\n",
       "    </tr>\n",
       "  </tbody>\n",
       "</table>\n",
       "</div>"
      ],
      "text/plain": [
       "            GAME_ID   FINAL_MARGIN    SHOT_NUMBER         PERIOD  \\\n",
       "count  1.280690e+05  128069.000000  128069.000000  128069.000000   \n",
       "mean   2.140045e+07       0.208723       6.506899       2.469427   \n",
       "std    2.578773e+02      13.233267       4.713260       1.139919   \n",
       "min    2.140000e+07     -53.000000       1.000000       1.000000   \n",
       "25%    2.140023e+07      -8.000000       3.000000       1.000000   \n",
       "50%    2.140045e+07       1.000000       5.000000       2.000000   \n",
       "75%    2.140067e+07       9.000000       9.000000       3.000000   \n",
       "max    2.140091e+07      53.000000      38.000000       7.000000   \n",
       "\n",
       "          GAME_CLOCK     SHOT_CLOCK       DRIBBLES     TOUCH_TIME  \\\n",
       "count  128069.000000  122502.000000  128069.000000  128069.000000   \n",
       "mean      351.393811      12.453344       2.023355       2.765901   \n",
       "std       207.590603       5.763265       3.477760       3.043682   \n",
       "min         0.000000       0.000000       0.000000    -163.600000   \n",
       "25%       172.000000       8.200000       0.000000       0.900000   \n",
       "50%       352.000000      12.300000       1.000000       1.600000   \n",
       "75%       531.000000      16.675000       2.000000       3.700000   \n",
       "max       720.000000      24.000000      32.000000      24.900000   \n",
       "\n",
       "           SHOT_DIST       PTS_TYPE  CLOSEST_DEFENDER_PLAYER_ID  \\\n",
       "count  128069.000000  128069.000000               128069.000000   \n",
       "mean       13.571504       2.264670               159038.487284   \n",
       "std         8.888964       0.441159                78791.172947   \n",
       "min         0.000000       2.000000                  708.000000   \n",
       "25%         4.700000       2.000000               101249.000000   \n",
       "50%        13.700000       2.000000               201949.000000   \n",
       "75%        22.500000       3.000000               203079.000000   \n",
       "max        47.200000       3.000000               530027.000000   \n",
       "\n",
       "       CLOSE_DEF_DIST            FGM            PTS      player_id  \n",
       "count   128069.000000  128069.000000  128069.000000  128069.000000  \n",
       "mean         4.123015       0.452139       0.997314  157238.251247  \n",
       "std          2.756446       0.497706       1.130978   79362.389336  \n",
       "min          0.000000       0.000000       0.000000     708.000000  \n",
       "25%          2.300000       0.000000       0.000000  101162.000000  \n",
       "50%          3.700000       0.000000       0.000000  201939.000000  \n",
       "75%          5.300000       1.000000       2.000000  202704.000000  \n",
       "max         53.200000       1.000000       3.000000  204060.000000  "
      ]
     },
     "execution_count": 360,
     "metadata": {},
     "output_type": "execute_result"
    }
   ],
   "source": [
    "df.describe()"
   ]
  },
  {
   "cell_type": "markdown",
   "metadata": {},
   "source": [
    "### Outliers\n",
    "\n",
    "By reviewing the above output and attribute context my candidates for outlier checking are attributes: FINAL_MARGIN, SHOT_NUMBER, PERIOD, SHOT_DIST, DRIBBLES, TOUCH_TIME, CLOSE_DEF_DIST.\n",
    "\n",
    "There is no meaning for outlier checking for attributes which contain ID information and for attributes which seem to be perfect shot predictors (FGM, PTS)."
   ]
  },
  {
   "cell_type": "code",
   "execution_count": 361,
   "metadata": {},
   "outputs": [],
   "source": [
    "outliers_candidates = [\n",
    " 'FINAL_MARGIN',\n",
    " 'SHOT_NUMBER',\n",
    " 'PERIOD',\n",
    " 'DRIBBLES',\n",
    " 'TOUCH_TIME',\n",
    " 'SHOT_DIST',\n",
    " 'CLOSE_DEF_DIST']"
   ]
  },
  {
   "cell_type": "markdown",
   "metadata": {},
   "source": [
    "Visualise outliers with boxplots for each candidate."
   ]
  },
  {
   "cell_type": "code",
   "execution_count": 362,
   "metadata": {},
   "outputs": [
    {
     "data": {
      "image/png": "[encoded data removed]",
      "text/plain": [
       "<Figure size 720x1728 with 7 Axes>"
      ]
     },
     "metadata": {
      "needs_background": "light"
     },
     "output_type": "display_data"
    }
   ],
   "source": [
    "subplot = 1\n",
    "plt.figure(figsize=(10, 24))\n",
    "plt.tight_layout()\n",
    "for atribute in outliers_candidates:\n",
    "    plt.subplot(7, 1, subplot)\n",
    "    plt.title(atribute)\n",
    "    plt.boxplot(df[atribute])\n",
    "    subplot += 1\n",
    "plt.show()"
   ]
  },
  {
   "cell_type": "markdown",
   "metadata": {},
   "source": [
    "Calculate number of outliers for each candidate."
   ]
  },
  {
   "cell_type": "code",
   "execution_count": 363,
   "metadata": {},
   "outputs": [],
   "source": [
    "def num_of_outliers(atribute):\n",
    "    q1=atribute.quantile(0.25)\n",
    "    q3=atribute.quantile(0.75)\n",
    "    IQR=q3-q1\n",
    "    outliers = atribute[((atribute<(q1-1.5*IQR)) | (atribute>(q3+1.5*IQR)))]\n",
    "    return len(outliers)"
   ]
  },
  {
   "cell_type": "code",
   "execution_count": 364,
   "metadata": {},
   "outputs": [
    {
     "data": {
      "text/plain": [
       "{'FINAL_MARGIN': 1978,\n",
       " 'SHOT_NUMBER': 2638,\n",
       " 'PERIOD': 43,\n",
       " 'DRIBBLES': 14932,\n",
       " 'TOUCH_TIME': 8181,\n",
       " 'SHOT_DIST': 0,\n",
       " 'CLOSE_DEF_DIST': 4583}"
      ]
     },
     "execution_count": 364,
     "metadata": {},
     "output_type": "execute_result"
    }
   ],
   "source": [
    "num_outliers_per_feature = dict()\n",
    "for feature in outliers_candidates:\n",
    "    num_outliers_per_feature[feature] = num_of_outliers(df[feature])\n",
    "num_outliers_per_feature"
   ]
  },
  {
   "cell_type": "markdown",
   "metadata": {},
   "source": [
    "### Distributions\n",
    "\n",
    "It would be useful to visualise distributions for meaningful attributes."
   ]
  },
  {
   "cell_type": "code",
   "execution_count": 365,
   "metadata": {},
   "outputs": [],
   "source": [
    "candidates = ['FINAL_MARGIN',\n",
    " 'SHOT_NUMBER',\n",
    " 'DRIBBLES',\n",
    " 'TOUCH_TIME',\n",
    " 'SHOT_DIST',\n",
    " 'CLOSEST_DEFENDER_PLAYER_ID',\n",
    " 'CLOSE_DEF_DIST',\n",
    " 'player_id']"
   ]
  },
  {
   "cell_type": "code",
   "execution_count": 366,
   "metadata": {},
   "outputs": [
    {
     "data": {
      "image/png": "[encoded data removed]",
      "text/plain": [
       "<Figure size 720x1728 with 8 Axes>"
      ]
     },
     "metadata": {
      "needs_background": "light"
     },
     "output_type": "display_data"
    }
   ],
   "source": [
    "subplot = 1\n",
    "plt.figure(figsize=(10, 24))\n",
    "plt.tight_layout()\n",
    "for atribute in candidates:\n",
    "    plt.subplot(4, 2, subplot)\n",
    "    plt.title(atribute)\n",
    "    plt.hist(df[atribute])\n",
    "    subplot += 1\n",
    "plt.show()"
   ]
  },
  {
   "cell_type": "markdown",
   "metadata": {},
   "source": [
    "### Correlation of numeric attributes"
   ]
  },
  {
   "cell_type": "code",
   "execution_count": 367,
   "metadata": {},
   "outputs": [
    {
     "data": {
      "image/png": "[encoded data removed]",
      "text/plain": [
       "<Figure size 432x288 with 2 Axes>"
      ]
     },
     "metadata": {
      "needs_background": "light"
     },
     "output_type": "display_data"
    }
   ],
   "source": [
    "df_numeric = df.loc[:, df.columns.isin(numeric_columns)]\n",
    "sns.heatmap(df_numeric.corr())\n",
    "plt.show()"
   ]
  },
  {
   "cell_type": "markdown",
   "metadata": {},
   "source": [
    "As I thought, FGM and PTS are highly correlating. Both contain information if a shot was made.\n",
    "\n",
    "TOUCH_TIME and DRIBBLE also highly correlate. SHOT_NUMBER and PERIOD correlate significantly. Both are expected.\n"
   ]
  },
  {
   "cell_type": "markdown",
   "metadata": {},
   "source": [
    "## Data type analysis"
   ]
  },
  {
   "cell_type": "markdown",
   "metadata": {},
   "source": [
    "Unique types of data"
   ]
  },
  {
   "cell_type": "code",
   "execution_count": 368,
   "metadata": {},
   "outputs": [
    {
     "data": {
      "text/plain": [
       "array([dtype('int64'), dtype('O'), dtype('float64')], dtype=object)"
      ]
     },
     "execution_count": 368,
     "metadata": {},
     "output_type": "execute_result"
    }
   ],
   "source": [
    "df.dtypes.unique()"
   ]
  },
  {
   "cell_type": "markdown",
   "metadata": {},
   "source": [
    "Counts of each data type"
   ]
  },
  {
   "cell_type": "code",
   "execution_count": 369,
   "metadata": {},
   "outputs": [
    {
     "data": {
      "text/plain": [
       "int64      11\n",
       "object      6\n",
       "float64     4\n",
       "dtype: int64"
      ]
     },
     "execution_count": 369,
     "metadata": {},
     "output_type": "execute_result"
    }
   ],
   "source": [
    "df.dtypes.value_counts()"
   ]
  },
  {
   "cell_type": "markdown",
   "metadata": {},
   "source": [
    "### Missing values"
   ]
  },
  {
   "cell_type": "markdown",
   "metadata": {},
   "source": [
    "Confirm that only column SHOT_CLOCK has null elements"
   ]
  },
  {
   "cell_type": "code",
   "execution_count": 370,
   "metadata": {},
   "outputs": [
    {
     "data": {
      "text/plain": [
       "GAME_ID                       False\n",
       "MATCHUP                       False\n",
       "LOCATION                      False\n",
       "W                             False\n",
       "FINAL_MARGIN                  False\n",
       "SHOT_NUMBER                   False\n",
       "PERIOD                        False\n",
       "GAME_CLOCK                    False\n",
       "SHOT_CLOCK                     True\n",
       "DRIBBLES                      False\n",
       "TOUCH_TIME                    False\n",
       "SHOT_DIST                     False\n",
       "PTS_TYPE                      False\n",
       "SHOT_RESULT                   False\n",
       "CLOSEST_DEFENDER              False\n",
       "CLOSEST_DEFENDER_PLAYER_ID    False\n",
       "CLOSE_DEF_DIST                False\n",
       "FGM                           False\n",
       "PTS                           False\n",
       "player_name                   False\n",
       "player_id                     False\n",
       "dtype: bool"
      ]
     },
     "execution_count": 370,
     "metadata": {},
     "output_type": "execute_result"
    }
   ],
   "source": [
    "df.isnull().any()"
   ]
  },
  {
   "cell_type": "markdown",
   "metadata": {},
   "source": [
    "Number of null elements for column SHOT_CLOCK"
   ]
  },
  {
   "cell_type": "code",
   "execution_count": 371,
   "metadata": {},
   "outputs": [
    {
     "data": {
      "text/plain": [
       "5567"
      ]
     },
     "execution_count": 371,
     "metadata": {},
     "output_type": "execute_result"
    }
   ],
   "source": [
    "df['SHOT_CLOCK'].isnull().sum()"
   ]
  },
  {
   "cell_type": "markdown",
   "metadata": {},
   "source": [
    "Percentage of null elements for column SHOT_CLOCK"
   ]
  },
  {
   "cell_type": "code",
   "execution_count": 372,
   "metadata": {},
   "outputs": [
    {
     "data": {
      "text/plain": [
       "'4.3468755124190865%'"
      ]
     },
     "execution_count": 372,
     "metadata": {},
     "output_type": "execute_result"
    }
   ],
   "source": [
    "f\"{df['SHOT_CLOCK'].isnull().sum() / len(df) * 100}%\""
   ]
  },
  {
   "cell_type": "markdown",
   "metadata": {},
   "source": [
    "### Monotone attributes"
   ]
  },
  {
   "cell_type": "markdown",
   "metadata": {},
   "source": [
    "Check if an attribute has a roughly equal number of unique elements as there are rows in the dataframe."
   ]
  },
  {
   "cell_type": "code",
   "execution_count": 373,
   "metadata": {},
   "outputs": [
    {
     "data": {
      "text/plain": [
       "GAME_ID                        904\n",
       "MATCHUP                       1808\n",
       "LOCATION                         2\n",
       "W                                2\n",
       "FINAL_MARGIN                    88\n",
       "SHOT_NUMBER                     38\n",
       "PERIOD                           7\n",
       "GAME_CLOCK                     719\n",
       "SHOT_CLOCK                     241\n",
       "DRIBBLES                        33\n",
       "TOUCH_TIME                     313\n",
       "SHOT_DIST                      448\n",
       "PTS_TYPE                         2\n",
       "SHOT_RESULT                      2\n",
       "CLOSEST_DEFENDER               473\n",
       "CLOSEST_DEFENDER_PLAYER_ID     474\n",
       "CLOSE_DEF_DIST                 299\n",
       "FGM                              2\n",
       "PTS                              3\n",
       "player_name                    281\n",
       "player_id                      281\n",
       "dtype: int64"
      ]
     },
     "execution_count": 373,
     "metadata": {},
     "output_type": "execute_result"
    }
   ],
   "source": [
    "df.nunique()"
   ]
  },
  {
   "cell_type": "markdown",
   "metadata": {},
   "source": [
    "No monotone attributes are present."
   ]
  },
  {
   "cell_type": "markdown",
   "metadata": {},
   "source": [
    "## Importance of attributes containing ID information\n",
    "\n",
    "Since good shooters are expected to make more shots and good defenders are expected to prevent more shots, I suspect attributes with ID information will play a role in shot prediction.\n",
    "\n",
    "My candidate attributes are: player_id and CLOSEST_DEFENDER_PLAYER_ID.\n",
    "\n",
    "None of those attributes are monotone which goes in hand with my hypothesis."
   ]
  },
  {
   "cell_type": "code",
   "execution_count": 374,
   "metadata": {},
   "outputs": [],
   "source": [
    "candidates = ['player_id', 'CLOSEST_DEFENDER_PLAYER_ID']"
   ]
  },
  {
   "cell_type": "markdown",
   "metadata": {},
   "source": [
    "Count made shots per player_id."
   ]
  },
  {
   "cell_type": "code",
   "execution_count": 375,
   "metadata": {},
   "outputs": [
    {
     "data": {
      "text/html": [
       "<div>\n",
       "<style scoped>\n",
       "    .dataframe tbody tr th:only-of-type {\n",
       "        vertical-align: middle;\n",
       "    }\n",
       "\n",
       "    .dataframe tbody tr th {\n",
       "        vertical-align: top;\n",
       "    }\n",
       "\n",
       "    .dataframe thead th {\n",
       "        text-align: right;\n",
       "    }\n",
       "</style>\n",
       "<table border=\"1\" class=\"dataframe\">\n",
       "  <thead>\n",
       "    <tr style=\"text-align: right;\">\n",
       "      <th></th>\n",
       "      <th>FGM</th>\n",
       "    </tr>\n",
       "    <tr>\n",
       "      <th>player_id</th>\n",
       "      <th></th>\n",
       "    </tr>\n",
       "  </thead>\n",
       "  <tbody>\n",
       "    <tr>\n",
       "      <th>202696</th>\n",
       "      <td>480</td>\n",
       "    </tr>\n",
       "    <tr>\n",
       "      <th>2544</th>\n",
       "      <td>478</td>\n",
       "    </tr>\n",
       "    <tr>\n",
       "      <th>201935</th>\n",
       "      <td>474</td>\n",
       "    </tr>\n",
       "    <tr>\n",
       "      <th>101145</th>\n",
       "      <td>473</td>\n",
       "    </tr>\n",
       "    <tr>\n",
       "      <th>200746</th>\n",
       "      <td>473</td>\n",
       "    </tr>\n",
       "    <tr>\n",
       "      <th>...</th>\n",
       "      <td>...</td>\n",
       "    </tr>\n",
       "    <tr>\n",
       "      <th>2045</th>\n",
       "      <td>45</td>\n",
       "    </tr>\n",
       "    <tr>\n",
       "      <th>203925</th>\n",
       "      <td>41</td>\n",
       "    </tr>\n",
       "    <tr>\n",
       "      <th>203459</th>\n",
       "      <td>40</td>\n",
       "    </tr>\n",
       "    <tr>\n",
       "      <th>2034</th>\n",
       "      <td>29</td>\n",
       "    </tr>\n",
       "    <tr>\n",
       "      <th>202962</th>\n",
       "      <td>29</td>\n",
       "    </tr>\n",
       "  </tbody>\n",
       "</table>\n",
       "<p>281 rows × 1 columns</p>\n",
       "</div>"
      ],
      "text/plain": [
       "           FGM\n",
       "player_id     \n",
       "202696     480\n",
       "2544       478\n",
       "201935     474\n",
       "101145     473\n",
       "200746     473\n",
       "...        ...\n",
       "2045        45\n",
       "203925      41\n",
       "203459      40\n",
       "2034        29\n",
       "202962      29\n",
       "\n",
       "[281 rows x 1 columns]"
      ]
     },
     "execution_count": 375,
     "metadata": {},
     "output_type": "execute_result"
    }
   ],
   "source": [
    "df_new = df.filter([candidates[0], 'FGM'], axis=1)\n",
    "df_new = df_new[df_new['FGM'] == 1]\n",
    "df_new = df_new.groupby(by=candidates[0])['FGM'].count().to_frame()\n",
    "df_new.sort_values(by=['FGM'], ascending=False)"
   ]
  },
  {
   "cell_type": "markdown",
   "metadata": {},
   "source": [
    "Count missed shots per CLOSEST_DEFENDER_PLAYER_ID."
   ]
  },
  {
   "cell_type": "code",
   "execution_count": 376,
   "metadata": {},
   "outputs": [
    {
     "data": {
      "text/html": [
       "<div>\n",
       "<style scoped>\n",
       "    .dataframe tbody tr th:only-of-type {\n",
       "        vertical-align: middle;\n",
       "    }\n",
       "\n",
       "    .dataframe tbody tr th {\n",
       "        vertical-align: top;\n",
       "    }\n",
       "\n",
       "    .dataframe thead th {\n",
       "        text-align: right;\n",
       "    }\n",
       "</style>\n",
       "<table border=\"1\" class=\"dataframe\">\n",
       "  <thead>\n",
       "    <tr style=\"text-align: right;\">\n",
       "      <th></th>\n",
       "      <th>FGM</th>\n",
       "    </tr>\n",
       "    <tr>\n",
       "      <th>CLOSEST_DEFENDER_PLAYER_ID</th>\n",
       "      <th></th>\n",
       "    </tr>\n",
       "  </thead>\n",
       "  <tbody>\n",
       "    <tr>\n",
       "      <th>201586</th>\n",
       "      <td>480</td>\n",
       "    </tr>\n",
       "    <tr>\n",
       "      <th>203110</th>\n",
       "      <td>450</td>\n",
       "    </tr>\n",
       "    <tr>\n",
       "      <th>201599</th>\n",
       "      <td>414</td>\n",
       "    </tr>\n",
       "    <tr>\n",
       "      <th>2200</th>\n",
       "      <td>400</td>\n",
       "    </tr>\n",
       "    <tr>\n",
       "      <th>200794</th>\n",
       "      <td>393</td>\n",
       "    </tr>\n",
       "    <tr>\n",
       "      <th>...</th>\n",
       "      <td>...</td>\n",
       "    </tr>\n",
       "    <tr>\n",
       "      <th>203949</th>\n",
       "      <td>1</td>\n",
       "    </tr>\n",
       "    <tr>\n",
       "      <th>203495</th>\n",
       "      <td>1</td>\n",
       "    </tr>\n",
       "    <tr>\n",
       "      <th>203893</th>\n",
       "      <td>1</td>\n",
       "    </tr>\n",
       "    <tr>\n",
       "      <th>203564</th>\n",
       "      <td>1</td>\n",
       "    </tr>\n",
       "    <tr>\n",
       "      <th>203998</th>\n",
       "      <td>1</td>\n",
       "    </tr>\n",
       "  </tbody>\n",
       "</table>\n",
       "<p>467 rows × 1 columns</p>\n",
       "</div>"
      ],
      "text/plain": [
       "                            FGM\n",
       "CLOSEST_DEFENDER_PLAYER_ID     \n",
       "201586                      480\n",
       "203110                      450\n",
       "201599                      414\n",
       "2200                        400\n",
       "200794                      393\n",
       "...                         ...\n",
       "203949                        1\n",
       "203495                        1\n",
       "203893                        1\n",
       "203564                        1\n",
       "203998                        1\n",
       "\n",
       "[467 rows x 1 columns]"
      ]
     },
     "execution_count": 376,
     "metadata": {},
     "output_type": "execute_result"
    }
   ],
   "source": [
    "df_new = df.filter([candidates[1], 'FGM'], axis=1)\n",
    "df_new = df_new[df_new['FGM'] == 0]\n",
    "df_new = df_new.groupby(by=candidates[1])['FGM'].count().to_frame()\n",
    "df_new.sort_values(by=['FGM'], ascending=False)"
   ]
  }
 ],
 "metadata": {
  "kernelspec": {
   "display_name": "Python 3.8.1 64-bit",
   "language": "python",
   "name": "python3"
  },
  "language_info": {
   "codemirror_mode": {
    "name": "ipython",
    "version": 3
   },
   "file_extension": ".py",
   "mimetype": "text/x-python",
   "name": "python",
   "nbconvert_exporter": "python",
   "pygments_lexer": "ipython3",
   "version": "3.8.1"
  },
  "orig_nbformat": 4,
  "vscode": {
   "interpreter": {
    "hash": "9e67132c30601bf093f2ee7de8d32c0f3a40f3422bfb9de5cfa62450f83fd5a3"
   }
  }
 },
 "nbformat": 4,
 "nbformat_minor": 2
}
