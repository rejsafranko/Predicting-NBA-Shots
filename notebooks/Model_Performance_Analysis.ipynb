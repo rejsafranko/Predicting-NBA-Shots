{
 "cells": [
  {
   "cell_type": "code",
   "execution_count": 2,
   "metadata": {},
   "outputs": [],
   "source": [
    "import warnings\n",
    "warnings.filterwarnings('ignore')\n",
    "\n",
    "import matplotlib.pyplot as plt\n",
    "from joblib import load\n",
    "from tensorflow import keras\n",
    "from scikeras.wrappers import KerasClassifier\n",
    "from sklearn.metrics import matthews_corrcoef, classification_report, confusion_matrix, ConfusionMatrixDisplay"
   ]
  },
  {
   "attachments": {},
   "cell_type": "markdown",
   "metadata": {},
   "source": [
    "## Logistic Regression"
   ]
  },
  {
   "cell_type": "code",
   "execution_count": 31,
   "metadata": {},
   "outputs": [],
   "source": [
    "model = load(\"../models/logreg.joblib\")\n",
    "test_data = load(\"../data/test data/logreg_test_data.joblib\")"
   ]
  },
  {
   "cell_type": "code",
   "execution_count": 32,
   "metadata": {},
   "outputs": [],
   "source": [
    "label_predictions = model.predict(test_data[\"features\"])"
   ]
  },
  {
   "attachments": {},
   "cell_type": "markdown",
   "metadata": {},
   "source": [
    "Classification report"
   ]
  },
  {
   "cell_type": "code",
   "execution_count": 33,
   "metadata": {},
   "outputs": [
    {
     "name": "stdout",
     "output_type": "stream",
     "text": [
      "              precision    recall  f1-score   support\n",
      "\n",
      "           0       0.59      0.47      0.52      2855\n",
      "           1       0.62      0.72      0.67      3448\n",
      "\n",
      "    accuracy                           0.61      6303\n",
      "   macro avg       0.60      0.60      0.60      6303\n",
      "weighted avg       0.61      0.61      0.60      6303\n",
      "\n"
     ]
    }
   ],
   "source": [
    "print(classification_report(test_data[\"labels\"], label_predictions))"
   ]
  },
  {
   "attachments": {},
   "cell_type": "markdown",
   "metadata": {},
   "source": [
    "Matthews correlation coeficient"
   ]
  },
  {
   "cell_type": "code",
   "execution_count": 34,
   "metadata": {},
   "outputs": [
    {
     "data": {
      "text/plain": [
       "0.20171661759204498"
      ]
     },
     "execution_count": 34,
     "metadata": {},
     "output_type": "execute_result"
    }
   ],
   "source": [
    "matthews_corrcoef(test_data[\"labels\"], label_predictions)"
   ]
  },
  {
   "attachments": {},
   "cell_type": "markdown",
   "metadata": {},
   "source": [
    "Confusion matrix"
   ]
  },
  {
   "cell_type": "code",
   "execution_count": 35,
   "metadata": {},
   "outputs": [
    {
     "data": {
      "image/png": "[encoded data removed]",
      "text/plain": [
       "<Figure size 720x432 with 2 Axes>"
      ]
     },
     "metadata": {
      "needs_background": "light"
     },
     "output_type": "display_data"
    }
   ],
   "source": [
    "disp = ConfusionMatrixDisplay(confusion_matrix(test_data[\"labels\"], label_predictions))\n",
    "disp.plot(cmap=plt.cm.Reds)\n",
    "plt.title(\"Confusion matrix\", color=\"red\")\n",
    "plt.xlabel('Predicted Label',color='black')\n",
    "plt.ylabel('True Label',color='black')\n",
    "plt.gcf().axes[0].tick_params(color=\"black\")\n",
    "plt.gcf().axes[1].tick_params(color=\"black\")\n",
    "plt.gcf().set_size_inches(10,6)"
   ]
  },
  {
   "attachments": {},
   "cell_type": "markdown",
   "metadata": {},
   "source": [
    "## Support Vector Machine"
   ]
  },
  {
   "cell_type": "code",
   "execution_count": 36,
   "metadata": {},
   "outputs": [],
   "source": [
    "model = load(\"../models/svm.joblib\")\n",
    "test_data = load(\"../data/test data/svm_test_data.joblib\")"
   ]
  },
  {
   "cell_type": "code",
   "execution_count": 37,
   "metadata": {},
   "outputs": [],
   "source": [
    "label_predictions = model.predict(test_data[\"features\"])"
   ]
  },
  {
   "attachments": {},
   "cell_type": "markdown",
   "metadata": {},
   "source": [
    "Classification report"
   ]
  },
  {
   "cell_type": "code",
   "execution_count": 38,
   "metadata": {},
   "outputs": [
    {
     "name": "stdout",
     "output_type": "stream",
     "text": [
      "              precision    recall  f1-score   support\n",
      "\n",
      "           0       0.63      0.38      0.48      2816\n",
      "           1       0.62      0.82      0.71      3487\n",
      "\n",
      "    accuracy                           0.62      6303\n",
      "   macro avg       0.63      0.60      0.59      6303\n",
      "weighted avg       0.63      0.62      0.60      6303\n",
      "\n"
     ]
    }
   ],
   "source": [
    "print(classification_report(test_data[\"labels\"], label_predictions))"
   ]
  },
  {
   "attachments": {},
   "cell_type": "markdown",
   "metadata": {},
   "source": [
    "Matthews correlation coeficient"
   ]
  },
  {
   "cell_type": "code",
   "execution_count": 39,
   "metadata": {},
   "outputs": [
    {
     "data": {
      "text/plain": [
       "0.22683047833034195"
      ]
     },
     "execution_count": 39,
     "metadata": {},
     "output_type": "execute_result"
    }
   ],
   "source": [
    "matthews_corrcoef(test_data[\"labels\"], label_predictions)"
   ]
  },
  {
   "attachments": {},
   "cell_type": "markdown",
   "metadata": {},
   "source": [
    "Confusion matrix"
   ]
  },
  {
   "cell_type": "code",
   "execution_count": 40,
   "metadata": {},
   "outputs": [
    {
     "data": {
      "image/png": "[encoded data removed]",
      "text/plain": [
       "<Figure size 720x432 with 2 Axes>"
      ]
     },
     "metadata": {
      "needs_background": "light"
     },
     "output_type": "display_data"
    }
   ],
   "source": [
    "disp = ConfusionMatrixDisplay(confusion_matrix(test_data[\"labels\"], label_predictions))\n",
    "disp.plot(cmap=plt.cm.Reds)\n",
    "plt.title(\"Confusion matrix\", color=\"red\")\n",
    "plt.xlabel('Predicted Label',color='black')\n",
    "plt.ylabel('True Label',color='black')\n",
    "plt.gcf().axes[0].tick_params(color=\"black\")\n",
    "plt.gcf().axes[1].tick_params(color=\"black\")\n",
    "plt.gcf().set_size_inches(10,6)"
   ]
  },
  {
   "attachments": {},
   "cell_type": "markdown",
   "metadata": {},
   "source": [
    "## Feedforward Neural Network with ReLu activation"
   ]
  },
  {
   "cell_type": "code",
   "execution_count": 3,
   "metadata": {},
   "outputs": [],
   "source": [
    "model = keras.models.load_model(\"../models/NNRelu\")\n",
    "test_data = load(\"../data/test data/nnrelu_test_data.joblib\")"
   ]
  },
  {
   "cell_type": "code",
   "execution_count": 4,
   "metadata": {},
   "outputs": [
    {
     "name": "stdout",
     "output_type": "stream",
     "text": [
      "197/197 [==============================] - 1s 3ms/step\n"
     ]
    }
   ],
   "source": [
    "label_predictions = model.predict(test_data[\"features\"])\n",
    "label_predictions[label_predictions < 0.5] = 0\n",
    "label_predictions[label_predictions >= 0.5] = 1"
   ]
  },
  {
   "attachments": {},
   "cell_type": "markdown",
   "metadata": {},
   "source": [
    "Classification report"
   ]
  },
  {
   "cell_type": "code",
   "execution_count": 5,
   "metadata": {},
   "outputs": [
    {
     "name": "stdout",
     "output_type": "stream",
     "text": [
      "              precision    recall  f1-score   support\n",
      "\n",
      "           0       0.00      0.00      0.00      2835\n",
      "           1       0.55      1.00      0.71      3468\n",
      "\n",
      "    accuracy                           0.55      6303\n",
      "   macro avg       0.28      0.50      0.35      6303\n",
      "weighted avg       0.30      0.55      0.39      6303\n",
      "\n"
     ]
    }
   ],
   "source": [
    "print(classification_report(test_data[\"labels\"], label_predictions))"
   ]
  },
  {
   "attachments": {},
   "cell_type": "markdown",
   "metadata": {},
   "source": [
    "Matthews correlation coeficient"
   ]
  },
  {
   "cell_type": "code",
   "execution_count": 6,
   "metadata": {},
   "outputs": [
    {
     "data": {
      "text/plain": [
       "0.0"
      ]
     },
     "execution_count": 6,
     "metadata": {},
     "output_type": "execute_result"
    }
   ],
   "source": [
    "matthews_corrcoef(test_data[\"labels\"], label_predictions)"
   ]
  },
  {
   "attachments": {},
   "cell_type": "markdown",
   "metadata": {},
   "source": [
    "Confusion matrix"
   ]
  },
  {
   "cell_type": "code",
   "execution_count": 7,
   "metadata": {},
   "outputs": [
    {
     "data": {
      "image/png": "[encoded data removed]",
      "text/plain": [
       "<Figure size 720x432 with 2 Axes>"
      ]
     },
     "metadata": {
      "needs_background": "light"
     },
     "output_type": "display_data"
    }
   ],
   "source": [
    "disp = ConfusionMatrixDisplay(confusion_matrix(test_data[\"labels\"], label_predictions))\n",
    "disp.plot(cmap=plt.cm.Reds)\n",
    "plt.title(\"Confusion matrix\", color=\"red\")\n",
    "plt.xlabel('Predicted Label',color='black')\n",
    "plt.ylabel('True Label',color='black')\n",
    "plt.gcf().axes[0].tick_params(color=\"black\")\n",
    "plt.gcf().axes[1].tick_params(color=\"black\")\n",
    "plt.gcf().set_size_inches(10,6)"
   ]
  },
  {
   "attachments": {},
   "cell_type": "markdown",
   "metadata": {},
   "source": [
    "## Feedforward Neural Network with ReLu activation"
   ]
  },
  {
   "cell_type": "code",
   "execution_count": 46,
   "metadata": {},
   "outputs": [],
   "source": [
    "model = keras.models.load_model(\"../models/NNSigmoid\")\n",
    "test_data = load(\"../data/test data/nnsigmoid_test_data.joblib\")"
   ]
  },
  {
   "cell_type": "code",
   "execution_count": 47,
   "metadata": {},
   "outputs": [
    {
     "name": "stdout",
     "output_type": "stream",
     "text": [
      "197/197 [==============================] - 0s 2ms/step\n"
     ]
    }
   ],
   "source": [
    "label_predictions = model.predict(test_data[\"features\"])\n",
    "label_predictions[label_predictions <= 0.5] = 0\n",
    "label_predictions[label_predictions > 0.5] = 1"
   ]
  },
  {
   "attachments": {},
   "cell_type": "markdown",
   "metadata": {},
   "source": [
    "Classification report"
   ]
  },
  {
   "cell_type": "code",
   "execution_count": 48,
   "metadata": {},
   "outputs": [
    {
     "name": "stdout",
     "output_type": "stream",
     "text": [
      "              precision    recall  f1-score   support\n",
      "\n",
      "           0       1.00      0.00      0.01      2784\n",
      "           1       0.56      1.00      0.72      3519\n",
      "\n",
      "    accuracy                           0.56      6303\n",
      "   macro avg       0.78      0.50      0.36      6303\n",
      "weighted avg       0.75      0.56      0.40      6303\n",
      "\n"
     ]
    }
   ],
   "source": [
    "print(classification_report(test_data[\"labels\"], label_predictions))"
   ]
  },
  {
   "attachments": {},
   "cell_type": "markdown",
   "metadata": {},
   "source": [
    "Matthews correlation coeficient"
   ]
  },
  {
   "cell_type": "code",
   "execution_count": 49,
   "metadata": {},
   "outputs": [
    {
     "data": {
      "text/plain": [
       "0.051111823024968445"
      ]
     },
     "execution_count": 49,
     "metadata": {},
     "output_type": "execute_result"
    }
   ],
   "source": [
    "matthews_corrcoef(test_data[\"labels\"], label_predictions)"
   ]
  },
  {
   "attachments": {},
   "cell_type": "markdown",
   "metadata": {},
   "source": [
    "Confusion matrix"
   ]
  },
  {
   "cell_type": "code",
   "execution_count": 50,
   "metadata": {},
   "outputs": [
    {
     "data": {
      "image/png": "[encoded data removed]",
      "text/plain": [
       "<Figure size 720x432 with 2 Axes>"
      ]
     },
     "metadata": {
      "needs_background": "light"
     },
     "output_type": "display_data"
    }
   ],
   "source": [
    "disp = ConfusionMatrixDisplay(confusion_matrix(test_data[\"labels\"], label_predictions))\n",
    "disp.plot(cmap=plt.cm.Reds)\n",
    "plt.title(\"Confusion matrix\", color=\"red\")\n",
    "plt.xlabel('Predicted Label',color='black')\n",
    "plt.ylabel('True Label',color='black')\n",
    "plt.gcf().axes[0].tick_params(color=\"black\")\n",
    "plt.gcf().axes[1].tick_params(color=\"black\")\n",
    "plt.gcf().set_size_inches(10,6)"
   ]
  },
  {
   "attachments": {},
   "cell_type": "markdown",
   "metadata": {},
   "source": [
    "## XGBoost"
   ]
  },
  {
   "cell_type": "code",
   "execution_count": 51,
   "metadata": {},
   "outputs": [],
   "source": [
    "model = load(\"../models/xgboost.joblib\")\n",
    "test_data = load(\"../data/test data/xgboost_test_data.joblib\")"
   ]
  },
  {
   "cell_type": "code",
   "execution_count": 52,
   "metadata": {},
   "outputs": [],
   "source": [
    "label_predictions = model.predict(test_data[\"features\"])"
   ]
  },
  {
   "attachments": {},
   "cell_type": "markdown",
   "metadata": {},
   "source": [
    "Classification report"
   ]
  },
  {
   "cell_type": "code",
   "execution_count": 53,
   "metadata": {},
   "outputs": [
    {
     "name": "stdout",
     "output_type": "stream",
     "text": [
      "              precision    recall  f1-score   support\n",
      "\n",
      "           0       0.68      0.29      0.41      2800\n",
      "           1       0.61      0.89      0.73      3503\n",
      "\n",
      "    accuracy                           0.63      6303\n",
      "   macro avg       0.65      0.59      0.57      6303\n",
      "weighted avg       0.64      0.63      0.59      6303\n",
      "\n"
     ]
    }
   ],
   "source": [
    "print(classification_report(test_data[\"labels\"], label_predictions))"
   ]
  },
  {
   "attachments": {},
   "cell_type": "markdown",
   "metadata": {},
   "source": [
    "Matthews correlation coeficient"
   ]
  },
  {
   "cell_type": "code",
   "execution_count": 54,
   "metadata": {},
   "outputs": [
    {
     "data": {
      "text/plain": [
       "0.2324786222758894"
      ]
     },
     "execution_count": 54,
     "metadata": {},
     "output_type": "execute_result"
    }
   ],
   "source": [
    "matthews_corrcoef(test_data[\"labels\"], label_predictions)"
   ]
  },
  {
   "attachments": {},
   "cell_type": "markdown",
   "metadata": {},
   "source": [
    "Confusion matrix"
   ]
  },
  {
   "cell_type": "code",
   "execution_count": 55,
   "metadata": {},
   "outputs": [
    {
     "data": {
      "image/png": "[encoded data removed]",
      "text/plain": [
       "<Figure size 720x432 with 2 Axes>"
      ]
     },
     "metadata": {
      "needs_background": "light"
     },
     "output_type": "display_data"
    }
   ],
   "source": [
    "disp = ConfusionMatrixDisplay(confusion_matrix(test_data[\"labels\"], label_predictions))\n",
    "disp.plot(cmap=plt.cm.Reds)\n",
    "plt.title(\"Confusion matrix\", color=\"red\")\n",
    "plt.xlabel('Predicted Label',color='black')\n",
    "plt.ylabel('True Label',color='black')\n",
    "plt.gcf().axes[0].tick_params(color=\"black\")\n",
    "plt.gcf().axes[1].tick_params(color=\"black\")\n",
    "plt.gcf().set_size_inches(10,6)"
   ]
  }
 ],
 "metadata": {
  "kernelspec": {
   "display_name": "Python 3",
   "language": "python",
   "name": "python3"
  },
  "language_info": {
   "codemirror_mode": {
    "name": "ipython",
    "version": 3
   },
   "file_extension": ".py",
   "mimetype": "text/x-python",
   "name": "python",
   "nbconvert_exporter": "python",
   "pygments_lexer": "ipython3",
   "version": "3.8.1"
  },
  "orig_nbformat": 4,
  "vscode": {
   "interpreter": {
    "hash": "9e67132c30601bf093f2ee7de8d32c0f3a40f3422bfb9de5cfa62450f83fd5a3"
   }
  }
 },
 "nbformat": 4,
 "nbformat_minor": 2
}
